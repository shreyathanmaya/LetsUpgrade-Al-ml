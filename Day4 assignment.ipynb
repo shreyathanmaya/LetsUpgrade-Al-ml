{
 "cells": [
  {
   "cell_type": "markdown",
   "metadata": {},
   "source": [
    "# Question 1:"
   ]
  },
  {
   "cell_type": "code",
   "execution_count": 3,
   "metadata": {},
   "outputs": [
    {
     "name": "stdout",
     "output_type": "stream",
     "text": [
      "1665\n",
      "309\n",
      "669186\n",
      "1.4557522123893805\n",
      "1\n",
      "309\n"
     ]
    }
   ],
   "source": [
    "a=987\n",
    "b=678\n",
    "add=a+b\n",
    "sub=a-b\n",
    "mul=a*b\n",
    "div1=a/b\n",
    "div2=a//b\n",
    "mod=a%b\n",
    "print(add)\n",
    "print(sub)\n",
    "print(mul)\n",
    "print(div1)\n",
    "print(div2)\n",
    "print(mod)\n"
   ]
  },
  {
   "cell_type": "markdown",
   "metadata": {},
   "source": [
    "# Question 2:\n"
   ]
  },
  {
   "cell_type": "markdown",
   "metadata": {},
   "source": [
    "- The range() function is a built-in function which is used to genarate sequence of numbers,starting from 0 by default and increments by 1(by deafult) and stops before the specified number.\n",
    "- range() is commonly used in for looping."
   ]
  },
  {
   "cell_type": "code",
   "execution_count": 5,
   "metadata": {},
   "outputs": [
    {
     "name": "stdout",
     "output_type": "stream",
     "text": [
      "[0, 1, 2, 3, 4]\n"
     ]
    }
   ],
   "source": [
    "range(5)\n",
    "range(0,5)\n",
    "print(list(range(5)))"
   ]
  },
  {
   "cell_type": "markdown",
   "metadata": {},
   "source": [
    "# Question 3:"
   ]
  },
  {
   "cell_type": "code",
   "execution_count": 8,
   "metadata": {},
   "outputs": [
    {
     "name": "stdout",
     "output_type": "stream",
     "text": [
      "The subtraction of a and b is:  -122\n",
      "0.8899909828674482\n"
     ]
    }
   ],
   "source": [
    "a=987\n",
    "b=1109\n",
    "sub=a-b\n",
    "print(\"The subtraction of a and b is: \",sub)\n",
    "if sub>25:\n",
    "    print(a*b)\n",
    "else:\n",
    "    print(a/b)\n"
   ]
  },
  {
   "cell_type": "markdown",
   "metadata": {},
   "source": [
    "# Question 4:"
   ]
  },
  {
   "cell_type": "code",
   "execution_count": 20,
   "metadata": {},
   "outputs": [
    {
     "name": "stdout",
     "output_type": "stream",
     "text": [
      "Square of that number minus 2: 0.25\n",
      "It is not divisible by 2\n",
      "It is not divisible by 2\n",
      "It is not divisible by 2\n",
      "Square of that number minus 2: 0.002066115702479339\n",
      "It is not divisible by 2\n",
      "Square of that number minus 2: 0.0008650519031141869\n",
      "It is not divisible by 2\n",
      "Square of that number minus 2: 0.00031887755102040814\n"
     ]
    }
   ],
   "source": [
    "l=[2,45,23,67,22,23,34,23,56]\n",
    "for i in l:\n",
    "    if i%2==0:\n",
    "        print(\"Square of that number minus 2:\",i**-(2))\n",
    "    else:\n",
    "        print(\"It is not divisible by 2\")"
   ]
  },
  {
   "cell_type": "markdown",
   "metadata": {},
   "source": [
    "# Question 5:"
   ]
  },
  {
   "cell_type": "code",
   "execution_count": 22,
   "metadata": {},
   "outputs": [
    {
     "name": "stdout",
     "output_type": "stream",
     "text": [
      "23\n",
      "33\n",
      "56\n",
      "32\n",
      "76\n",
      "16\n",
      "66\n"
     ]
    }
   ],
   "source": [
    "l=[6,12,23,33,56,32,76,16,66,12]\n",
    "for i in l:\n",
    "    div=i/2\n",
    "    if div>7:\n",
    "        print(i)"
   ]
  }
 ],
 "metadata": {
  "kernelspec": {
   "display_name": "Python 3",
   "language": "python",
   "name": "python3"
  },
  "language_info": {
   "codemirror_mode": {
    "name": "ipython",
    "version": 3
   },
   "file_extension": ".py",
   "mimetype": "text/x-python",
   "name": "python",
   "nbconvert_exporter": "python",
   "pygments_lexer": "ipython3",
   "version": "3.7.6"
  }
 },
 "nbformat": 4,
 "nbformat_minor": 4
}
