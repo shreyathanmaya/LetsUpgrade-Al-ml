{
 "cells": [
  {
   "cell_type": "markdown",
   "metadata": {},
   "source": [
    "# Question 1:"
   ]
  },
  {
   "cell_type": "code",
   "execution_count": 7,
   "metadata": {},
   "outputs": [
    {
     "name": "stdout",
     "output_type": "stream",
     "text": [
      "thanmaya@google.com\n",
      "['google']\n"
     ]
    }
   ],
   "source": [
    "import re\n",
    "email='thanmaya@google.com'\n",
    "pattern='\\w+@(\\w+).com'\n",
    "comp= re.findall(pattern,email)\n",
    "print(email)\n",
    "print(comp)"
   ]
  },
  {
   "cell_type": "markdown",
   "metadata": {},
   "source": [
    "# Question 2:"
   ]
  },
  {
   "cell_type": "code",
   "execution_count": 11,
   "metadata": {},
   "outputs": [
    {
     "name": "stdout",
     "output_type": "stream",
     "text": [
      "Enter words: abcs\n",
      "a,b,c,s\n"
     ]
    }
   ],
   "source": [
    "a=input(\"Enter words: \")\n",
    "b=a.split(\",\")\n",
    "b=sorted(a)\n",
    "print(\",\".join(a))"
   ]
  },
  {
   "cell_type": "markdown",
   "metadata": {},
   "source": [
    "# Question 3:"
   ]
  },
  {
   "cell_type": "code",
   "execution_count": 20,
   "metadata": {},
   "outputs": [
    {
     "name": "stdout",
     "output_type": "stream",
     "text": [
      "{'cn', 'st', 'dotnet'}\n",
      "{'cn', 'st', 'cat', 'dotnet'}\n",
      "{'python', 'dotnet', 'cat', 'cn', 'st', 'AI&ML', 'javascript'}\n",
      "7\n",
      "{'python', 'dotnet', 'cn', 'st', 'AI&ML', 'javascript'}\n"
     ]
    }
   ],
   "source": [
    "#Set is a collection which is unordered and unindexed. In python sets are written with curly brackets.\n",
    "st = {\"cn\",\"st\",\"dotnet\"}\n",
    "print(st)\n",
    "\n",
    "#To add an item to set\n",
    "st.add(\"cat\")\n",
    "print(st)\n",
    "\n",
    "#To add multiple items\n",
    "st.update([\"python\",\"javascript\",\"AI&ML\"])\n",
    "print(st)\n",
    "\n",
    "#To get number of items in list\n",
    "print(len(st))\n",
    "\n",
    "#To remove an item\n",
    "st.remove(\"cat\")\n",
    "print(st)"
   ]
  },
  {
   "cell_type": "code",
   "execution_count": 36,
   "metadata": {},
   "outputs": [
    {
     "name": "stdout",
     "output_type": "stream",
     "text": [
      "c\n",
      "{'b', 'a'}\n",
      "set()\n",
      "{1, 2, 3, 'yes', 'no', 'hello'}\n"
     ]
    }
   ],
   "source": [
    "# To delete last item\n",
    "stt={\"a\",\"b\",\"c\"}\n",
    "x=stt.pop()\n",
    "print(x)\n",
    "print(stt)\n",
    "\n",
    "#To clear \n",
    "stt.clear()\n",
    "print(stt)\n",
    "\n",
    "#set contains another set\n",
    "set1 = {\"no\",\"yes\",\"hello\"}\n",
    "set2 = {1,2,3}\n",
    "set3 = set1.union(set2)\n",
    "print(set3)\n"
   ]
  },
  {
   "cell_type": "markdown",
   "metadata": {},
   "source": [
    "# Question 4:"
   ]
  },
  {
   "cell_type": "code",
   "execution_count": 4,
   "metadata": {},
   "outputs": [
    {
     "name": "stdout",
     "output_type": "stream",
     "text": [
      "3.0\n"
     ]
    }
   ],
   "source": [
    "def getMissingNo(a):\n",
    "    n=len(a)\n",
    "    total=(n+1)*(n+2)/2\n",
    "    sumOfa=sum(a)\n",
    "    return total-sumOfa\n",
    "a=[1, 2, 4, 5, 6]\n",
    "miss=getMissingNo(a)\n",
    "print(miss)"
   ]
  },
  {
   "cell_type": "markdown",
   "metadata": {},
   "source": [
    "# Question 5:"
   ]
  },
  {
   "cell_type": "code",
   "execution_count": 5,
   "metadata": {},
   "outputs": [
    {
     "name": "stdout",
     "output_type": "stream",
     "text": [
      "[45, 63, 22, 6, 8, 98, 34, 99]\n"
     ]
    }
   ],
   "source": [
    "def remove(duplicate):\n",
    "    final_list=[]\n",
    "    for num in duplicate:\n",
    "        if num not in final_list:\n",
    "            final_list.append(num)\n",
    "    return final_list\n",
    "duplicate=[45,63,22,22,6,8,98,45,34,99]\n",
    "print(remove(duplicate))"
   ]
  }
 ],
 "metadata": {
  "kernelspec": {
   "display_name": "Python 3",
   "language": "python",
   "name": "python3"
  },
  "language_info": {
   "codemirror_mode": {
    "name": "ipython",
    "version": 3
   },
   "file_extension": ".py",
   "mimetype": "text/x-python",
   "name": "python",
   "nbconvert_exporter": "python",
   "pygments_lexer": "ipython3",
   "version": "3.7.6"
  }
 },
 "nbformat": 4,
 "nbformat_minor": 4
}
