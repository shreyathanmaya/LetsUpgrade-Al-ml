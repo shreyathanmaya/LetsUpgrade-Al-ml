{
 "cells": [
  {
   "cell_type": "markdown",
   "metadata": {},
   "source": [
    "# Question 1:"
   ]
  },
  {
   "cell_type": "code",
   "execution_count": 7,
   "metadata": {},
   "outputs": [
    {
     "name": "stdout",
     "output_type": "stream",
     "text": [
      "Prime numbers between 3 and 20 are:\n",
      "3\n",
      "5\n",
      "7\n",
      "11\n",
      "13\n",
      "17\n",
      "19\n"
     ]
    }
   ],
   "source": [
    "lower = 3\n",
    "upper = 20\n",
    "print(\"Prime numbers between\", lower, \"and\", upper, \"are:\")\n",
    "for num in range(lower, upper + 1):\n",
    "    if num > 1:\n",
    "        for i in range(2, num):\n",
    "            if (num % i) == 0:\n",
    "                break\n",
    "        else:\n",
    "            print(num)"
   ]
  },
  {
   "cell_type": "markdown",
   "metadata": {},
   "source": [
    "# Question 2:"
   ]
  },
  {
   "cell_type": "code",
   "execution_count": 26,
   "metadata": {},
   "outputs": [
    {
     "name": "stdout",
     "output_type": "stream",
     "text": [
      "HELLO EVERYONE\n",
      "1\n",
      "False\n",
      "True\n",
      "2\n",
      "Here we go\n",
      " Here we go\n",
      "Here we go\n",
      "b'Here we go'\n",
      "Here we go\n",
      "True\n",
      "True\n",
      "False\n",
      "False\n",
      " here we go\n",
      " hERE WE GO\n"
     ]
    }
   ],
   "source": [
    "a='hello everyone'\n",
    "new_word=a.upper()\n",
    "print(new_word)\n",
    "b='hello everyone'\n",
    "index=b.find('e')\n",
    "print(index)\n",
    "c='python developer'\n",
    "d=c.startswith('hello')\n",
    "print(d)\n",
    "c='python developer'\n",
    "d=c.startswith('python')\n",
    "print(d)\n",
    "d='hello evryone'\n",
    "d2=d.count('o')\n",
    "print(d2)\n",
    "x=' Here we go'\n",
    "z=x.strip()\n",
    "print(z)\n",
    "y=' Here we go'\n",
    "X=y.rstrip()\n",
    "print(X)\n",
    "K='Here we go'\n",
    "Y=K.lstrip()\n",
    "print(Y)\n",
    "B='Here we go'\n",
    "A=B.encode()\n",
    "print(A)\n",
    "y='here we go'\n",
    "X=y.capitalize()\n",
    "print(X)\n",
    "y=' Here we go'\n",
    "X=y.endswith('go')\n",
    "print(X)\n",
    "y=' Here we go'\n",
    "X=y.isascii()\n",
    "print(X)\n",
    "y=' Here we go'\n",
    "X=y.isnumeric()\n",
    "print(X)\n",
    "y=' Here we go'\n",
    "X=y.isupper()\n",
    "print(X)\n",
    "y=' Here we go'\n",
    "X=y.casefold()\n",
    "print(X)\n",
    "y=' Here we go'\n",
    "X=y.swapcase()\n",
    "print(X)\n",
    "y=' Here we go'\n",
    "X=y.()\n",
    "print(X)"
   ]
  },
  {
   "cell_type": "markdown",
   "metadata": {},
   "source": [
    "# Question 3:"
   ]
  },
  {
   "cell_type": "code",
   "execution_count": 4,
   "metadata": {},
   "outputs": [
    {
     "name": "stdout",
     "output_type": "stream",
     "text": [
      "Enter the string : dad\n",
      "String in reverse Order :   dad\n",
      "This is a Palindrome String\n"
     ]
    }
   ],
   "source": [
    "string = input(\"Enter the string : \")\n",
    "str1 = \"\"\n",
    "for i in string:\n",
    "    str1 = i + str1  \n",
    "print(\"String in reverse Order :  \", str1)\n",
    "if(string == str1):\n",
    "    print(\"This is a Palindrome String\")\n",
    "elif(string != str1):\n",
    "    print(\"This is anagram string\")\n",
    "else:\n",
    "    print(\"None of the above\")"
   ]
  },
  {
   "cell_type": "code",
   "execution_count": 5,
   "metadata": {},
   "outputs": [
    {
     "name": "stdout",
     "output_type": "stream",
     "text": [
      "Enter the string : mother\n",
      "String in reverse Order :   rehtom\n",
      "This is anagram string\n"
     ]
    }
   ],
   "source": [
    "string = input(\"Enter the string : \")\n",
    "str1 = \"\"\n",
    "for i in string:\n",
    "    str1 = i + str1  \n",
    "print(\"String in reverse Order :  \", str1)\n",
    "if(string == str1):\n",
    "    print(\"This is a Palindrome String\")\n",
    "elif(string != str1):\n",
    "    print(\"This is anagram string\")\n",
    "else:\n",
    "    print(\"None of the above\")"
   ]
  },
  {
   "cell_type": "markdown",
   "metadata": {},
   "source": [
    "# Question 4:"
   ]
  },
  {
   "cell_type": "code",
   "execution_count": 33,
   "metadata": {},
   "outputs": [
    {
     "name": "stdout",
     "output_type": "stream",
     "text": [
      "ABCTHanmaya564\n"
     ]
    },
    {
     "data": {
      "text/plain": [
       "'abcthanmaya564'"
      ]
     },
     "execution_count": 33,
     "metadata": {},
     "output_type": "execute_result"
    }
   ],
   "source": [
    "string=\"ABC@THanmaya !^ 564 #\"\n",
    "alphanumeric=\"\"\n",
    "for char in string:\n",
    "    if char.isalnum():\n",
    "        alphanumeric+=char\n",
    "print(alphanumeric)\n",
    "alphanumeric.lower()"
   ]
  }
 ],
 "metadata": {
  "kernelspec": {
   "display_name": "Python 3",
   "language": "python",
   "name": "python3"
  },
  "language_info": {
   "codemirror_mode": {
    "name": "ipython",
    "version": 3
   },
   "file_extension": ".py",
   "mimetype": "text/x-python",
   "name": "python",
   "nbconvert_exporter": "python",
   "pygments_lexer": "ipython3",
   "version": "3.7.6"
  }
 },
 "nbformat": 4,
 "nbformat_minor": 4
}
