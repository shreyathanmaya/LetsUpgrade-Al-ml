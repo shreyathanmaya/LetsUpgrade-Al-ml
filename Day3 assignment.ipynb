{
 "cells": [
  {
   "cell_type": "markdown",
   "metadata": {},
   "source": [
    "# Question 1:"
   ]
  },
  {
   "cell_type": "code",
   "execution_count": 1,
   "metadata": {},
   "outputs": [
    {
     "data": {
      "text/plain": [
       "34398"
      ]
     },
     "execution_count": 1,
     "metadata": {},
     "output_type": "execute_result"
    }
   ],
   "source": [
    "98765-64367"
   ]
  },
  {
   "cell_type": "code",
   "execution_count": 3,
   "metadata": {},
   "outputs": [
    {
     "name": "stdout",
     "output_type": "stream",
     "text": [
      "Enter first number: 9288378\n",
      "Enter second number: 6789888\n",
      "The subtraction of 9288378 and 6789888 is: 2498490.0\n"
     ]
    }
   ],
   "source": [
    "num1 = input('Enter first number: ')\n",
    "num2 = input('Enter second number: ')\n",
    "sum = float(num1) - float(num2)\n",
    "print('The subtraction of {0} and {1} is: {2}'.format(num1, num2, sum))"
   ]
  },
  {
   "cell_type": "markdown",
   "metadata": {},
   "source": [
    "# Question 2:"
   ]
  },
  {
   "cell_type": "code",
   "execution_count": 8,
   "metadata": {},
   "outputs": [
    {
     "name": "stdout",
     "output_type": "stream",
     "text": [
      "4096\n"
     ]
    }
   ],
   "source": [
    "import math \n",
    "def pwo():\n",
    "   f=8** 4\n",
    "   return f\n",
    "print(pwo())"
   ]
  },
  {
   "cell_type": "markdown",
   "metadata": {},
   "source": [
    "# Question 3:"
   ]
  },
  {
   "cell_type": "code",
   "execution_count": 9,
   "metadata": {},
   "outputs": [
    {
     "name": "stdout",
     "output_type": "stream",
     "text": [
      "Enter value of x: 2\n",
      "Enter value of y: 3\n",
      "The value of x after swapping: 3\n",
      "The value of y after swapping: 2\n"
     ]
    }
   ],
   "source": [
    "x = input('Enter value of x: ')\n",
    "y = input('Enter value of y: ')\n",
    "temp = x\n",
    "x = y\n",
    "y = temp\n",
    "print('The value of x after swapping: {}'.format(x))\n",
    "print('The value of y after swapping: {}'.format(y))"
   ]
  },
  {
   "cell_type": "markdown",
   "metadata": {},
   "source": [
    "# Question 4:"
   ]
  },
  {
   "cell_type": "code",
   "execution_count": 10,
   "metadata": {},
   "outputs": [
    {
     "name": "stdout",
     "output_type": "stream",
     "text": [
      "x = 10\n",
      "y = 5\n"
     ]
    }
   ],
   "source": [
    "x = 5\n",
    "y = 10\n",
    "x, y = y, x\n",
    "print(\"x =\", x)\n",
    "print(\"y =\", y)"
   ]
  },
  {
   "cell_type": "markdown",
   "metadata": {},
   "source": [
    "# Question 5:"
   ]
  },
  {
   "cell_type": "code",
   "execution_count": 16,
   "metadata": {},
   "outputs": [
    {
     "name": "stdout",
     "output_type": "stream",
     "text": [
      "Enter temperature in fahrenheit: 104\n",
      "40.0 degree\n",
      "313.15 kelvin\n"
     ]
    }
   ],
   "source": [
    "f = int(input(\"Enter temperature in fahrenheit: \"))\n",
    "c = (f - 32) * 5/9\n",
    "print(c,\"degree\")\n",
    "k = (f-32)*(5/9)+(273.15)\n",
    "print(k,\"kelvin\")"
   ]
  },
  {
   "cell_type": "markdown",
   "metadata": {},
   "source": [
    "# Question 6:"
   ]
  },
  {
   "cell_type": "code",
   "execution_count": 13,
   "metadata": {},
   "outputs": [
    {
     "name": "stdout",
     "output_type": "stream",
     "text": [
      "<class 'int'>\n",
      "<class 'float'>\n",
      "<class 'str'>\n",
      "<class 'tuple'>\n",
      "<class 'complex'>\n",
      "<class 'range'>\n",
      "<class 'set'>\n",
      "<class 'list'>\n",
      "<class 'dict'>\n",
      "<class 'bool'>\n"
     ]
    }
   ],
   "source": [
    "a = 8\n",
    "print(type(a))\n",
    "b = 5.1\n",
    "print(type(b)) \n",
    "c = 'LetsUpgrade'\n",
    "print(type(c))\n",
    "d = (\"ram\",\"sai\",\"pinky\")\n",
    "print(type(d))\n",
    "e = 1j\n",
    "print(type(e))\n",
    "f = range(6)\n",
    "print(type(f))\n",
    "g = {\"apple\",\"banana\"}\n",
    "print(type(g))\n",
    "h = [\"a\",\"b\",\"c\"]\n",
    "print(type(h))\n",
    "i = {'name':'thanmaya','age':21}\n",
    "print(type(i))\n",
    "j = True\n",
    "print(type(j))"
   ]
  },
  {
   "cell_type": "markdown",
   "metadata": {},
   "source": [
    "# Question 7:"
   ]
  },
  {
   "cell_type": "markdown",
   "metadata": {},
   "source": [
    "Steps to create a github profile\n",
    "- Go to https://github.com/join\n",
    "- Type a username,your email-adress and a password\n",
    "- Select a sign up for github, the github account will be created\n",
    "\n",
    "Steps to github repository\n",
    "- once after signing-in to github account,in your repository chooses new repository\n",
    "- On the navigator bar,choose new(+) and then choose new repository\n",
    "- In the repository name box,give the name as LetsUpgrade\n",
    "- select public\n",
    "- select repository\n",
    "\n",
    "Steps to upload files in github\n",
    "- once the repository is created open the repository\n",
    "- Then click on uploading on existing file\n",
    "- Drag and drop the file to be uploaded\n",
    "- Then select commit changes\n",
    "- The file will be uploaded to your github account"
   ]
  },
  {
   "cell_type": "code",
   "execution_count": null,
   "metadata": {},
   "outputs": [],
   "source": []
  }
 ],
 "metadata": {
  "kernelspec": {
   "display_name": "Python 3",
   "language": "python",
   "name": "python3"
  },
  "language_info": {
   "codemirror_mode": {
    "name": "ipython",
    "version": 3
   },
   "file_extension": ".py",
   "mimetype": "text/x-python",
   "name": "python",
   "nbconvert_exporter": "python",
   "pygments_lexer": "ipython3",
   "version": "3.7.6"
  }
 },
 "nbformat": 4,
 "nbformat_minor": 4
}
