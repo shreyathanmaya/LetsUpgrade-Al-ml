{
 "cells": [
  {
   "cell_type": "code",
   "execution_count": 1,
   "metadata": {},
   "outputs": [
    {
     "name": "stdout",
     "output_type": "stream",
     "text": [
      "   ID  TRT  AGE  WEIGHIN  STAGE  TOTALCIN  TOTALCW2  TOTALCW4 TOTALCW6\n",
      "0   1    0   52    124.0      2         6         6         6        7\n",
      "1   5    0   77    160.0      1         9         6        10        9\n",
      "2   6    0   60    136.5      4         7         9        17       19\n",
      "3   9    0   61    179.6      1         6         7         9        3\n",
      "4  11    0   59    175.8      2         6         7        16       13\n"
     ]
    }
   ],
   "source": [
    "import pandas as pd\n",
    "dataset=pd.read_excel(\"1 wilcoxon.xlsx\")\n",
    "print(dataset.head())"
   ]
  },
  {
   "cell_type": "code",
   "execution_count": 2,
   "metadata": {},
   "outputs": [
    {
     "name": "stdout",
     "output_type": "stream",
     "text": [
      "29.5 0.00259741456482452\n"
     ]
    }
   ],
   "source": [
    "from scipy.stats import wilcoxon\n",
    "stats,p=wilcoxon(dataset.TOTALCIN,dataset.TOTALCW2)\n",
    "print(stats,p)"
   ]
  },
  {
   "cell_type": "code",
   "execution_count": 5,
   "metadata": {},
   "outputs": [
    {
     "name": "stdout",
     "output_type": "stream",
     "text": [
      "27.927710843373504 8.62133745016363e-07\n"
     ]
    }
   ],
   "source": [
    "from scipy.stats import friedmanchisquare\n",
    "stats,p=friedmanchisquare(dataset.TOTALCIN,dataset.TOTALCW2,dataset.TOTALCW4)\n",
    "print(stats,p)"
   ]
  },
  {
   "cell_type": "code",
   "execution_count": 7,
   "metadata": {},
   "outputs": [
    {
     "data": {
      "text/plain": [
       "0.862133745016363"
      ]
     },
     "execution_count": 7,
     "metadata": {},
     "output_type": "execute_result"
    }
   ],
   "source": [
    "8.62133745016363e-01"
   ]
  },
  {
   "cell_type": "code",
   "execution_count": 8,
   "metadata": {},
   "outputs": [
    {
     "data": {
      "text/plain": [
       "0.0862133745016363"
      ]
     },
     "execution_count": 8,
     "metadata": {},
     "output_type": "execute_result"
    }
   ],
   "source": [
    "8.62133745016363e-02"
   ]
  },
  {
   "cell_type": "code",
   "execution_count": 9,
   "metadata": {},
   "outputs": [
    {
     "data": {
      "text/plain": [
       "0.00862133745016363"
      ]
     },
     "execution_count": 9,
     "metadata": {},
     "output_type": "execute_result"
    }
   ],
   "source": [
    "8.62133745016363e-03"
   ]
  },
  {
   "cell_type": "code",
   "execution_count": 22,
   "metadata": {},
   "outputs": [
    {
     "name": "stdout",
     "output_type": "stream",
     "text": [
      "   Design1  Design2\n",
      "0       11       12\n",
      "1       17       10\n",
      "2       16       15\n",
      "3       14       19\n",
      "4       15       11\n"
     ]
    }
   ],
   "source": [
    "dataset1=pd.read_excel(\"3 Mann Whitney.xlsx\",sheet_name=1)\n",
    "print(dataset1.head())"
   ]
  },
  {
   "cell_type": "code",
   "execution_count": 5,
   "metadata": {},
   "outputs": [
    {
     "name": "stdout",
     "output_type": "stream",
     "text": [
      "   Design1  Design2  Design3  Showroom\n",
      "0       11       12       23         1\n",
      "1       17       10       20         2\n",
      "2       16       15       18         3\n",
      "3       14       19       17         4\n",
      "4       15       11       10         5\n"
     ]
    }
   ],
   "source": [
    "import pandas as pd\n",
    "dataset2=pd.read_excel(\"4 Kruskal Wallis.xlsx\")\n",
    "print(dataset2)"
   ]
  },
  {
   "cell_type": "code",
   "execution_count": 6,
   "metadata": {},
   "outputs": [
    {
     "name": "stdout",
     "output_type": "stream",
     "text": [
      "2.7345323741007226 0.25480259087913626\n"
     ]
    }
   ],
   "source": [
    "from scipy.stats import kruskal\n",
    "stats,p=kruskal(dataset2.Design1,dataset2.Design2,dataset2.Design3)\n",
    "print(stats,p)"
   ]
  },
  {
   "cell_type": "code",
   "execution_count": 8,
   "metadata": {},
   "outputs": [
    {
     "name": "stdout",
     "output_type": "stream",
     "text": [
      "3.1712567666931584 0.20481904779163013\n"
     ]
    }
   ],
   "source": [
    "dataset3=pd.read_excel(\"5 Chi square Test.xlsx\",sheet_name=0)\n",
    "dataset4=dataset3.dropna()\n",
    "from scipy.stats import chi2_contingency\n",
    "chitable=pd.crosstab(dataset4.Gender,dataset4.Smoking)\n",
    "stats,p,dof,expeted=chi2_contingency(chitable)\n",
    "print(stats,p)"
   ]
  },
  {
   "cell_type": "code",
   "execution_count": 9,
   "metadata": {},
   "outputs": [
    {
     "name": "stdout",
     "output_type": "stream",
     "text": [
      "     ids  Height\n",
      "0  43783   72.35\n",
      "1  20278   70.66\n",
      "2  20389   70.68\n",
      "3  24559   67.43\n",
      "4  28980   68.45\n"
     ]
    }
   ],
   "source": [
    "dataset5=pd.read_excel(\"1. One Sample.xlsx\",sheet_name=0)\n",
    "print(dataset5.head())"
   ]
  },
  {
   "cell_type": "code",
   "execution_count": 10,
   "metadata": {},
   "outputs": [
    {
     "name": "stdout",
     "output_type": "stream",
     "text": [
      "11.498800238580099 1.087893570160242e-26\n"
     ]
    }
   ],
   "source": [
    "from scipy.stats import ttest_1samp\n",
    "stats,p=ttest_1samp(dataset5.Height,65)\n",
    "print(stats,p)"
   ]
  },
  {
   "cell_type": "code",
   "execution_count": 11,
   "metadata": {},
   "outputs": [
    {
     "name": "stdout",
     "output_type": "stream",
     "text": [
      "     ids  English   Math\n",
      "0  43783    88.24  60.02\n",
      "1  20278    89.45  70.19\n",
      "2  20389    96.73  71.20\n",
      "3  22820    74.06  55.89\n",
      "4  24559    82.61  65.52\n"
     ]
    }
   ],
   "source": [
    "dataset6=pd.read_excel(\"2. paired Sample.xlsx\",sheet_name=0)\n",
    "print(dataset6.head())"
   ]
  },
  {
   "cell_type": "code",
   "execution_count": 12,
   "metadata": {},
   "outputs": [
    {
     "name": "stdout",
     "output_type": "stream",
     "text": [
      "36.312568981719856 3.0710987192210606e-128\n"
     ]
    }
   ],
   "source": [
    "from scipy.stats import ttest_rel\n",
    "stats,p=ttest_rel(dataset6.English,dataset6.Math)\n",
    "print(stats,p)"
   ]
  },
  {
   "cell_type": "code",
   "execution_count": 13,
   "metadata": {},
   "outputs": [
    {
     "name": "stdout",
     "output_type": "stream",
     "text": [
      "   Nonathelete  Athelete\n",
      "0     0.004413  0.004462\n",
      "1     0.004872  0.005146\n",
      "2     0.008851  0.004023\n",
      "3     0.006508  0.003941\n",
      "4     0.006314  0.004764\n"
     ]
    }
   ],
   "source": [
    "dataset7=pd.read_excel(\"3. Independent Sample.xlsx\",sheet_name=3)\n",
    "print(dataset7.head())"
   ]
  },
  {
   "cell_type": "code",
   "execution_count": 14,
   "metadata": {},
   "outputs": [
    {
     "name": "stdout",
     "output_type": "stream",
     "text": [
      "13.368790432137319 7.116633157230895e-33\n"
     ]
    }
   ],
   "source": [
    "from scipy.stats import ttest_ind\n",
    "stats,p=ttest_ind(dataset7.Nonathelete,dataset7.Athelete)\n",
    "print(stats,p)"
   ]
  },
  {
   "cell_type": "code",
   "execution_count": null,
   "metadata": {},
   "outputs": [],
   "source": []
  }
 ],
 "metadata": {
  "kernelspec": {
   "display_name": "Python 3",
   "language": "python",
   "name": "python3"
  },
  "language_info": {
   "codemirror_mode": {
    "name": "ipython",
    "version": 3
   },
   "file_extension": ".py",
   "mimetype": "text/x-python",
   "name": "python",
   "nbconvert_exporter": "python",
   "pygments_lexer": "ipython3",
   "version": "3.7.6"
  }
 },
 "nbformat": 4,
 "nbformat_minor": 4
}
